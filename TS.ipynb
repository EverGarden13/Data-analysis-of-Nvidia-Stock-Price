{
 "cells": [
  {
   "cell_type": "markdown",
   "metadata": {},
   "source": [
    "# NVIDIA Stock Price Time Series Analysis with ARIMA Model"
   ]
  },
  {
   "cell_type": "code",
   "execution_count": null,
   "metadata": {},
   "outputs": [],
   "source": [
    "# Import necessary libraries\n",
    "import pandas as pd\n",
    "import numpy as np\n",
    "import matplotlib.pyplot as plt\n",
    "import seaborn as sns\n",
    "from statsmodels.tsa.stattools import adfuller\n",
    "from statsmodels.tsa.arima.model import ARIMA\n",
    "from statsmodels.graphics.tsaplots import plot_acf, plot_pacf\n",
    "from pmdarima import auto_arima\n",
    "from sklearn.metrics import mean_squared_error, mean_absolute_error, r2_score\n",
    "import warnings\n",
    "\n",
    "# Suppress warnings for cleaner output\n",
    "warnings.filterwarnings('ignore')\n",
    "\n",
    "# Set plot style\n",
    "plt.style.use('ggplot')\n",
    "sns.set_style('whitegrid')\n",
    "plt.rcParams['figure.figsize'] = (12, 6)"
   ]
  },
  {
   "cell_type": "markdown",
   "metadata": {},
   "source": [
    "## 1. Data Loading and Exploration"
   ]
  },
  {
   "cell_type": "code",
   "execution_count": null,
   "metadata": {},
   "outputs": [],
   "source": [
    "# Load the NVIDIA stock price data\n",
    "df = pd.read_csv('NVDA.csv')\n",
    "\n",
    "# Convert the Date column to datetime format\n",
    "df['Date'] = pd.to_datetime(df['Date'])\n",
    "\n",
    "# Set Date as index\n",
    "df.set_index('Date', inplace=True)\n",
    "\n",
    "# Display the first few rows of the dataset\n",
    "df.head()"
   ]
  },
  {
   "cell_type": "code",
   "execution_count": null,
   "metadata": {},
   "outputs": [],
   "source": [
    "# Display basic information about the dataset\n",
    "print(f\"Dataset Shape: {df.shape}\")\n",
    "print(\"\\nDataset Info:\")\n",
    "df.info()\n",
    "\n",
    "print(\"\\nDescriptive Statistics:\")\n",
    "df.describe()"
   ]
  },
  {
   "cell_type": "markdown",
   "metadata": {},
   "source": [
    "## 2. Time Series Visualization"
   ]
  },
  {
   "cell_type": "code",
   "execution_count": null,
   "metadata": {},
   "outputs": [],
   "source": [
    "# Visualize the closing price\n",
    "plt.figure(figsize=(14, 7))\n",
    "plt.plot(df.index, df['Close'], color='blue')\n",
    "plt.title('NVIDIA Stock Closing Price (1999-2006)', fontsize=16)\n",
    "plt.xlabel('Date', fontsize=14)\n",
    "plt.ylabel('Closing Price ($)', fontsize=14)\n",
    "plt.grid(True)\n",
    "plt.tight_layout()\n",
    "plt.show()"
   ]
  },
  {
   "cell_type": "code",
   "execution_count": null,
   "metadata": {},
   "outputs": [],
   "source": [
    "# Plot trading volume\n",
    "plt.figure(figsize=(14, 5))\n",
    "plt.bar(df.index, df['Volume'], color='green', alpha=0.7)\n",
    "plt.title('NVIDIA Trading Volume Over Time', fontsize=16)\n",
    "plt.xlabel('Date', fontsize=14)\n",
    "plt.ylabel('Volume', fontsize=14)\n",
    "plt.tight_layout()\n",
    "plt.show()"
   ]
  },
  {
   "cell_type": "code",
   "execution_count": null,
   "metadata": {},
   "outputs": [],
   "source": [
    "# Calculate and plot daily returns\n",
    "df['Daily_Return'] = df['Close'].pct_change() * 100\n",
    "\n",
    "plt.figure(figsize=(14, 5))\n",
    "plt.plot(df.index, df['Daily_Return'], color='purple', alpha=0.8)\n",
    "plt.title('NVIDIA Daily Returns (%)', fontsize=16)\n",
    "plt.xlabel('Date', fontsize=14)\n",
    "plt.ylabel('Daily Return (%)', fontsize=14)\n",
    "plt.tight_layout()\n",
    "plt.show()"
   ]
  },
  {
   "cell_type": "markdown",
   "metadata": {},
   "source": [
    "## 3. Stationarity Testing\n",
    "\n",
    "For time series modeling with ARIMA, the data should be stationary. Let's test if our data is stationary using the Augmented Dickey-Fuller (ADF) test."
   ]
  },
  {
   "cell_type": "code",
   "execution_count": null,
   "metadata": {},
   "outputs": [],
   "source": [
    "def test_stationarity(timeseries):\n",
    "    # Determine rolling statistics\n",
    "    rolling_mean = timeseries.rolling(window=12).mean()\n",
    "    rolling_std = timeseries.rolling(window=12).std()\n",
    "    \n",
    "    # Plot rolling statistics\n",
    "    plt.figure(figsize=(14, 7))\n",
    "    plt.plot(timeseries, color='blue', label='Original')\n",
    "    plt.plot(rolling_mean, color='red', label='Rolling Mean')\n",
    "    plt.plot(rolling_std, color='green', label='Rolling Std')\n",
    "    plt.legend(loc='best')\n",
    "    plt.title('Rolling Mean & Standard Deviation', fontsize=16)\n",
    "    plt.xlabel('Date', fontsize=14)\n",
    "    plt.ylabel('Price', fontsize=14)\n",
    "    plt.tight_layout()\n",
    "    plt.show()\n",
    "    \n",
    "    # Perform ADF test\n",
    "    result = adfuller(timeseries.dropna())\n",
    "    print('Augmented Dickey-Fuller Test Results:')\n",
    "    labels = ['ADF Test Statistic', 'p-value', '# Lags Used', '# Observations']\n",
    "    for value, label in zip(result, labels):\n",
    "        print(f'{label}: {value}')\n",
    "    \n",
    "    print(f'Critical Values:')\n",
    "    for key, value in result[4].items():\n",
    "        print(f'\\t{key}: {value}')\n",
    "        \n",
    "    if result[1] < 0.05:\n",
    "        print(\"\\nResult: The series is stationary (reject H0)\")\n",
    "    else:\n",
    "        print(\"\\nResult: The series is non-stationary (fail to reject H0)\")\n",
    "\n",
    "# Test stationarity of closing prices\n",
    "test_stationarity(df['Close'])"
   ]
  },
  {
   "cell_type": "code",
   "execution_count": null,
   "metadata": {},
   "outputs": [],
   "source": [
    "# Apply differencing to make the data stationary\n",
    "df['Close_diff'] = df['Close'].diff()\n",
    "\n",
    "# Test stationarity of differenced series\n",
    "test_stationarity(df['Close_diff'].dropna())"
   ]
  },
  {
   "cell_type": "markdown",
   "metadata": {},
   "source": [
    "## 4. ACF and PACF Plots for Model Order Determination"
   ]
  },
  {
   "cell_type": "code",
   "execution_count": null,
   "metadata": {},
   "outputs": [],
   "source": [
    "# Create ACF and PACF plots\n",
    "fig, (ax1, ax2) = plt.subplots(1, 2, figsize=(16, 5))\n",
    "\n",
    "plot_acf(df['Close_diff'].dropna(), ax=ax1, lags=30)\n",
    "ax1.set_title('Autocorrelation Function (ACF)', fontsize=14)\n",
    "\n",
    "plot_pacf(df['Close_diff'].dropna(), ax=ax2, lags=30, method='ywm')\n",
    "ax2.set_title('Partial Autocorrelation Function (PACF)', fontsize=14)\n",
    "\n",
    "plt.tight_layout()\n",
    "plt.show()"
   ]
  },
  {
   "cell_type": "markdown",
   "metadata": {},
   "source": [
    "## 5. Auto ARIMA for Optimal Model Selection"
   ]
  },
  {
   "cell_type": "code",
   "execution_count": null,
   "metadata": {},
   "outputs": [],
   "source": [
    "# Use auto_arima to find the optimal ARIMA model\n",
    "auto_model = auto_arima(df['Close'], \n",
    "                         seasonal=False,\n",
    "                         test='adf',\n",
    "                         trace=True,\n",
    "                         error_action='ignore',\n",
    "                         suppress_warnings=True,\n",
    "                         stepwise=True)"
   ]
  },
  {
   "cell_type": "code",
   "execution_count": null,
   "metadata": {},
   "outputs": [],
   "source": [
    "# Print the summary of the auto-selected model\n",
    "print(auto_model.summary())"
   ]
  },
  {
   "cell_type": "markdown",
   "metadata": {},
   "source": [
    "## 6. Training and Testing ARIMA Model"
   ]
  },
  {
   "cell_type": "code",
   "execution_count": null,
   "metadata": {},
   "outputs": [],
   "source": [
    "# Determine optimal parameters from auto_arima\n",
    "optimal_order = auto_model.order\n",
    "print(f\"Optimal ARIMA order: {optimal_order}\")\n",
    "\n",
    "# Split the data into training and testing sets (80% train, 20% test)\n",
    "train_size = int(len(df) * 0.8)\n",
    "train_data = df['Close'][:train_size]\n",
    "test_data = df['Close'][train_size:]\n",
    "\n",
    "print(f\"Training data points: {len(train_data)}\")\n",
    "print(f\"Testing data points: {len(test_data)}\")"
   ]
  },
  {
   "cell_type": "code",
   "execution_count": null,
   "metadata": {},
   "outputs": [],
   "source": [
    "# Fit ARIMA model on the training data\n",
    "model = ARIMA(train_data, order=optimal_order)\n",
    "model_fit = model.fit()\n",
    "\n",
    "# Display model summary\n",
    "print(model_fit.summary())"
   ]
  },
  {
   "cell_type": "markdown",
   "metadata": {},
   "source": [
    "## 7. Model Performance Evaluation"
   ]
  },
  {
   "cell_type": "code",
   "execution_count": null,
   "metadata": {},
   "outputs": [],
   "source": [
    "# Generate predictions for test data\n",
    "predictions = model_fit.forecast(steps=len(test_data))\n",
    "\n",
    "# Create a DataFrame with actual and predicted values\n",
    "forecast_df = pd.DataFrame({\n",
    "    'Actual': test_data.values, \n",
    "    'Predicted': predictions\n",
    "}, index=test_data.index)\n",
    "\n",
    "# Calculate error metrics\n",
    "mse = mean_squared_error(forecast_df['Actual'], forecast_df['Predicted'])\n",
    "rmse = np.sqrt(mse)\n",
    "mae = mean_absolute_error(forecast_df['Actual'], forecast_df['Predicted'])\n",
    "r2 = r2_score(forecast_df['Actual'], forecast_df['Predicted'])\n",
    "mape = np.mean(np.abs((forecast_df['Actual'] - forecast_df['Predicted']) / forecast_df['Actual'])) * 100\n",
    "\n",
    "# Display the performance metrics in a table\n",
    "metrics_df = pd.DataFrame({\n",
    "    'Metric': ['Mean Squared Error (MSE)', 'Root Mean Squared Error (RMSE)', \n",
    "              'Mean Absolute Error (MAE)', 'R-squared', 'Mean Absolute Percentage Error (MAPE)'],\n",
    "    'Value': [mse, rmse, mae, r2, mape]\n",
    "})\n",
    "\n",
    "print(\"ARIMA Model Performance Metrics:\")\n",
    "metrics_df"
   ]
  },
  {
   "cell_type": "code",
   "execution_count": null,
   "metadata": {},
   "outputs": [],
   "source": [
    "# Plot the actual vs predicted values\n",
    "plt.figure(figsize=(14, 7))\n",
    "plt.plot(train_data, label='Training Data', color='blue')\n",
    "plt.plot(test_data, label='Actual Test Data', color='green')\n",
    "plt.plot(forecast_df['Predicted'], label='Predictions', color='red', linestyle='--')\n",
    "plt.title('NVIDIA Stock Price: Actual vs Predicted', fontsize=16)\n",
    "plt.xlabel('Date', fontsize=14)\n",
    "plt.ylabel('Stock Price', fontsize=14)\n",
    "plt.legend(loc='best')\n",
    "plt.grid(True)\n",
    "plt.tight_layout()\n",
    "plt.show()"
   ]
  },
  {
   "cell_type": "code",
   "execution_count": null,
   "metadata": {},
   "outputs": [],
   "source": [
    "# Zoom in on the test period for a better comparison\n",
    "plt.figure(figsize=(14, 7))\n",
    "plt.plot(test_data, label='Actual', color='green', marker='o', markersize=2)\n",
    "plt.plot(forecast_df['Predicted'], label='Predicted', color='red', linestyle='--')\n",
    "plt.title('NVIDIA Stock Price (Test Period): Actual vs Predicted', fontsize=16)\n",
    "plt.xlabel('Date', fontsize=14)\n",
    "plt.ylabel('Stock Price', fontsize=14)\n",
    "plt.legend(loc='best')\n",
    "plt.grid(True)\n",
    "plt.tight_layout()\n",
    "plt.show()"
   ]
  },
  {
   "cell_type": "code",
   "execution_count": null,
   "metadata": {},
   "outputs": [],
   "source": [
    "# Plot residuals\n",
    "residuals = forecast_df['Actual'] - forecast_df['Predicted']\n",
    "\n",
    "plt.figure(figsize=(14, 7))\n",
    "plt.plot(residuals, color='purple')\n",
    "plt.axhline(y=0, color='black', linestyle='--')\n",
    "plt.title('ARIMA Model Residuals', fontsize=16)\n",
    "plt.xlabel('Date', fontsize=14)\n",
    "plt.ylabel('Residual Value', fontsize=14)\n",
    "plt.grid(True)\n",
    "plt.tight_layout()\n",
    "plt.show()\n",
    "\n",
    "# Plot residuals histogram\n",
    "plt.figure(figsize=(14, 5))\n",
    "sns.histplot(residuals, kde=True, color='purple')\n",
    "plt.title('Distribution of Residuals', fontsize=16)\n",
    "plt.xlabel('Residual Value', fontsize=14)\n",
    "plt.ylabel('Frequency', fontsize=14)\n",
    "plt.grid(True)\n",
    "plt.tight_layout()\n",
    "plt.show()"
   ]
  },
  {
   "cell_type": "markdown",
   "metadata": {},
   "source": [
    "## 8. Forecasting Future Values"
   ]
  },
  {
   "cell_type": "code",
   "execution_count": null,
   "metadata": {},
   "outputs": [],
   "source": [
    "# Fit ARIMA model on the entire dataset\n",
    "full_model = ARIMA(df['Close'], order=optimal_order)\n",
    "full_model_fit = full_model.fit()\n",
    "\n",
    "# Forecast for the next 30 days\n",
    "forecast_steps = 30\n",
    "forecast = full_model_fit.forecast(steps=forecast_steps)\n",
    "forecast_dates = pd.date_range(start=df.index[-1], periods=forecast_steps+1, freq='B')[1:]\n",
    "\n",
    "# Create a DataFrame for the forecast\n",
    "forecast_df_future = pd.DataFrame({\n",
    "    'Forecasted_Close': forecast\n",
    "}, index=forecast_dates)\n",
    "\n",
    "# Display the forecasted values\n",
    "print(\"Forecasted NVIDIA Stock Prices for Next 30 Business Days:\")\n",
    "forecast_df_future"
   ]
  },
  {
   "cell_type": "code",
   "execution_count": null,
   "metadata": {},
   "outputs": [],
   "source": [
    "# Plot the historical data and the forecast\n",
    "plt.figure(figsize=(16, 8))\n",
    "\n",
    "# Plot historical data\n",
    "plt.plot(df.index, df['Close'], label='Historical Data', color='blue')\n",
    "\n",
    "# Plot forecast\n",
    "plt.plot(forecast_df_future.index, forecast_df_future['Forecasted_Close'], \n",
    "         label='Forecast', color='red', linestyle='--')\n",
    "\n",
    "# Add a vertical line to separate historical data from forecast\n",
    "plt.axvline(x=df.index[-1], color='black', linestyle=':', alpha=0.5)\n",
    "\n",
    "# Add shaded area for forecast confidence interval (you could calculate this more accurately)\n",
    "plt.fill_between(forecast_df_future.index, \n",
    "                 forecast_df_future['Forecasted_Close'] * 0.95, \n",
    "                 forecast_df_future['Forecasted_Close'] * 1.05, \n",
    "                 color='red', alpha=0.2, label='95% Confidence Interval')\n",
    "\n",
    "plt.title('NVIDIA Stock Price Forecast', fontsize=18)\n",
    "plt.xlabel('Date', fontsize=14)\n",
    "plt.ylabel('Stock Price', fontsize=14)\n",
    "plt.legend()\n",
    "plt.grid(True)\n",
    "plt.tight_layout()\n",
    "plt.show()"
   ]
  },
  {
   "cell_type": "markdown",
   "metadata": {},
   "source": [
    "## 9. Conclusion\n",
    "\n",
    "In this analysis, we've built an ARIMA model to forecast NVIDIA stock prices. The model shows reasonable performance as demonstrated by the evaluation metrics and plots. The forecasting capability provides insight into potential future price movements based on historical patterns.\n",
    "\n",
    "Key findings:\n",
    "1. The ARIMA model with optimal order parameters helps capture time series patterns in stock price data\n",
    "2. The residuals analysis indicates how well our model fits the actual data\n",
    "3. The performance metrics quantify the accuracy of our predictions\n",
    "4. The forecasted values offer a perspective on future price movements\n",
    "\n",
    "It's important to note that while time series models like ARIMA are useful for stock price prediction, actual market performance is influenced by many external factors not captured in historical price data alone."
   ]
  }
 ],
 "metadata": {
  "language_info": {
   "name": "python"
  }
 },
 "nbformat": 4,
 "nbformat_minor": 2
}
