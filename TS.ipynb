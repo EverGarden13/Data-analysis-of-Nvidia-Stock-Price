{
 "cells": [
  {
   "cell_type": "markdown",
   "metadata": {},
   "source": [
    "# Import Required Libraries\n",
    "Import necessary libraries including pandas, numpy, matplotlib, statsmodels, and pmdarima for time series analysis."
   ]
  },
  {
   "cell_type": "code",
   "execution_count": null,
   "metadata": {},
   "outputs": [],
   "source": [
    "# Import necessary libraries\n",
    "import pandas as pd\n",
    "import numpy as np\n",
    "import matplotlib.pyplot as plt\n",
    "import statsmodels.api as sm\n",
    "import pmdarima as pm\n",
    "\n",
    "# Set matplotlib inline for Jupyter notebooks\n",
    "%matplotlib inline"
   ]
  },
  {
   "cell_type": "markdown",
   "metadata": {},
   "source": [
    "# Load and Prepare Time Series Data\n",
    "Load time series data from a file or generate sample data. Ensure the data is properly formatted with a datetime index."
   ]
  },
  {
   "cell_type": "code",
   "execution_count": null,
   "metadata": {},
   "outputs": [],
   "source": [
    "# Load and Prepare Time Series Data\n",
    "\n",
    "# Load time series data from a CSV file\n",
    "# For demonstration, we will generate sample data\n",
    "date_rng = pd.date_range(start='2020-01-01', end='2021-01-01', freq='D')\n",
    "data = np.random.randn(len(date_rng))\n",
    "\n",
    "# Create a DataFrame with the generated data\n",
    "df = pd.DataFrame(data, index=date_rng, columns=['value'])\n",
    "\n",
    "# Ensure the data is properly formatted with a datetime index\n",
    "df.index = pd.to_datetime(df.index)\n",
    "\n",
    "# Display the first few rows of the DataFrame\n",
    "df.head()\n",
    "\n",
    "# Plot the time series data\n",
    "df.plot(figsize=(10, 6))\n",
    "plt.title('Sample Time Series Data')\n",
    "plt.xlabel('Date')\n",
    "plt.ylabel('Value')\n",
    "plt.show()"
   ]
  },
  {
   "cell_type": "markdown",
   "metadata": {},
   "source": [
    "# Explore Time Series Data\n",
    "Visualize the time series data to identify patterns, trends, and seasonality using plots."
   ]
  },
  {
   "cell_type": "code",
   "execution_count": null,
   "metadata": {},
   "outputs": [],
   "source": [
    "# Explore Time Series Data\n",
    "\n",
    "# Plot the time series data to visualize patterns, trends, and seasonality\n",
    "plt.figure(figsize=(12, 6))\n",
    "plt.plot(df.index, df['value'], label='Time Series Data')\n",
    "plt.title('Time Series Data Visualization')\n",
    "plt.xlabel('Date')\n",
    "plt.ylabel('Value')\n",
    "plt.legend()\n",
    "plt.show()\n",
    "\n",
    "# Decompose the time series data to observe trend, seasonality, and residuals\n",
    "decomposition = sm.tsa.seasonal_decompose(df['value'], model='additive')\n",
    "fig = decomposition.plot()\n",
    "fig.set_size_inches(12, 8)\n",
    "plt.show()\n",
    "\n",
    "# Plot autocorrelation and partial autocorrelation to identify patterns\n",
    "fig, axes = plt.subplots(1, 2, figsize=(16, 6))\n",
    "sm.graphics.tsa.plot_acf(df['value'], lags=40, ax=axes[0])\n",
    "sm.graphics.tsa.plot_pacf(df['value'], lags=40, ax=axes[1])\n",
    "plt.show()"
   ]
  },
  {
   "cell_type": "markdown",
   "metadata": {},
   "source": [
    "# Check for Stationarity\n",
    "Perform ADF and KPSS tests to check if the time series is stationary. Apply differencing if necessary to achieve stationarity."
   ]
  },
  {
   "cell_type": "code",
   "execution_count": null,
   "metadata": {},
   "outputs": [],
   "source": [
    "# Check for Stationarity\n",
    "\n",
    "from statsmodels.tsa.stattools import adfuller, kpss\n",
    "\n",
    "# Perform ADF test\n",
    "adf_result = adfuller(df['value'])\n",
    "print('ADF Statistic:', adf_result[0])\n",
    "print('p-value:', adf_result[1])\n",
    "for key, value in adf_result[4].items():\n",
    "    print('Critical Value ({}): {}'.format(key, value))\n",
    "\n",
    "# Perform KPSS test\n",
    "kpss_result = kpss(df['value'], regression='c')\n",
    "print('\\nKPSS Statistic:', kpss_result[0])\n",
    "print('p-value:', kpss_result[1])\n",
    "for key, value in kpss_result[3].items():\n",
    "    print('Critical Value ({}): {}'.format(key, value))\n",
    "\n",
    "# Apply differencing if necessary\n",
    "df['value_diff'] = df['value'].diff().dropna()\n",
    "\n",
    "# Re-check stationarity after differencing\n",
    "adf_result_diff = adfuller(df['value_diff'].dropna())\n",
    "print('\\nADF Statistic (Differenced):', adf_result_diff[0])\n",
    "print('p-value (Differenced):', adf_result_diff[1])\n",
    "for key, value in adf_result_diff[4].items():\n",
    "    print('Critical Value (Differenced - {}): {}'.format(key, value))\n",
    "\n",
    "kpss_result_diff = kpss(df['value_diff'].dropna(), regression='c')\n",
    "print('\\nKPSS Statistic (Differenced):', kpss_result_diff[0])\n",
    "print('p-value (Differenced):', kpss_result_diff[1])\n",
    "for key, value in kpss_result_diff[3].items():\n",
    "    print('Critical Value (Differenced - {}): {}'.format(key, value))\n",
    "\n",
    "# Plot the differenced time series data\n",
    "plt.figure(figsize=(10, 6))\n",
    "plt.plot(df.index, df['value_diff'], label='Differenced Time Series Data')\n",
    "plt.title('Differenced Time Series Data')\n",
    "plt.xlabel('Date')\n",
    "plt.ylabel('Value')\n",
    "plt.legend()\n",
    "plt.show()"
   ]
  },
  {
   "cell_type": "markdown",
   "metadata": {},
   "source": [
    "# Determine ARIMA Parameters\n",
    "Use ACF and PACF plots to determine appropriate p, d, q parameters for the ARIMA model. Alternatively, use auto_arima to automatically find optimal parameters."
   ]
  },
  {
   "cell_type": "code",
   "execution_count": null,
   "metadata": {},
   "outputs": [],
   "source": [
    "# Determine ARIMA Parameters\n",
    "\n",
    "# Plot ACF and PACF to determine p and q\n",
    "fig, axes = plt.subplots(1, 2, figsize=(16, 6))\n",
    "sm.graphics.tsa.plot_acf(df['value_diff'].dropna(), lags=40, ax=axes[0])\n",
    "sm.graphics.tsa.plot_pacf(df['value_diff'].dropna(), lags=40, ax=axes[1])\n",
    "plt.show()\n",
    "\n",
    "# Use auto_arima to automatically find optimal p, d, q parameters\n",
    "auto_arima_model = pm.auto_arima(df['value'], seasonal=False, trace=True)\n",
    "print(auto_arima_model.summary())\n",
    "\n",
    "# Extract the optimal p, d, q parameters\n",
    "optimal_params = auto_arima_model.order\n",
    "print(f'Optimal parameters: p={optimal_params[0]}, d={optimal_params[1]}, q={optimal_params[2]}')"
   ]
  },
  {
   "cell_type": "markdown",
   "metadata": {},
   "source": [
    "# Fit ARIMA Model\n",
    "Fit the ARIMA model to the time series data using the determined parameters. Display model summary and coefficients."
   ]
  },
  {
   "cell_type": "code",
   "execution_count": null,
   "metadata": {},
   "outputs": [],
   "source": [
    "# Fit ARIMA Model\n",
    "\n",
    "# Fit the ARIMA model using the determined parameters\n",
    "model = sm.tsa.ARIMA(df['value'], order=optimal_params)\n",
    "fitted_model = model.fit()\n",
    "\n",
    "# Display the model summary\n",
    "print(fitted_model.summary())\n",
    "\n",
    "# Display the model coefficients\n",
    "print(fitted_model.params)\n",
    "\n",
    "# Plot the fitted values against the actual values\n",
    "plt.figure(figsize=(10, 6))\n",
    "plt.plot(df.index, df['value'], label='Original')\n",
    "plt.plot(df.index, fitted_model.fittedvalues, color='red', label='Fitted')\n",
    "plt.title('ARIMA Model Fit')\n",
    "plt.xlabel('Date')\n",
    "plt.ylabel('Value')\n",
    "plt.legend()\n",
    "plt.show()"
   ]
  },
  {
   "cell_type": "markdown",
   "metadata": {},
   "source": [
    "# Evaluate Model Performance\n",
    "Analyze model residuals, perform diagnostic tests, and calculate error metrics such as MAE, RMSE, and MAPE."
   ]
  },
  {
   "cell_type": "code",
   "execution_count": null,
   "metadata": {},
   "outputs": [],
   "source": [
    "# Evaluate Model Performance\n",
    "\n",
    "# Analyze model residuals\n",
    "residuals = fitted_model.resid\n",
    "\n",
    "# Plot residuals\n",
    "plt.figure(figsize=(10, 6))\n",
    "plt.plot(df.index, residuals, label='Residuals')\n",
    "plt.title('Residuals of ARIMA Model')\n",
    "plt.xlabel('Date')\n",
    "plt.ylabel('Residuals')\n",
    "plt.legend()\n",
    "plt.show()\n",
    "\n",
    "# Perform diagnostic tests on residuals\n",
    "fig, axes = plt.subplots(1, 2, figsize=(16, 6))\n",
    "sm.graphics.tsa.plot_acf(residuals, lags=40, ax=axes[0])\n",
    "sm.graphics.tsa.plot_pacf(residuals, lags=40, ax=axes[1])\n",
    "plt.show()\n",
    "\n",
    "# Calculate error metrics\n",
    "from sklearn.metrics import mean_absolute_error, mean_squared_error\n",
    "\n",
    "# Mean Absolute Error (MAE)\n",
    "mae = mean_absolute_error(df['value'], fitted_model.fittedvalues)\n",
    "print('Mean Absolute Error (MAE):', mae)\n",
    "\n",
    "# Root Mean Squared Error (RMSE)\n",
    "rmse = np.sqrt(mean_squared_error(df['value'], fitted_model.fittedvalues))\n",
    "print('Root Mean Squared Error (RMSE):', rmse)\n",
    "\n",
    "# Mean Absolute Percentage Error (MAPE)\n",
    "mape = np.mean(np.abs((df['value'] - fitted_model.fittedvalues) / df['value'])) * 100\n",
    "print('Mean Absolute Percentage Error (MAPE):', mape)"
   ]
  },
  {
   "cell_type": "markdown",
   "metadata": {},
   "source": [
    "# Make Forecasts\n",
    "Generate forecasts for future time periods using the fitted ARIMA model and visualize the predictions against actual values."
   ]
  },
  {
   "cell_type": "code",
   "execution_count": null,
   "metadata": {},
   "outputs": [],
   "source": [
    "# Make Forecasts\n",
    "\n",
    "# Generate forecasts for future time periods\n",
    "forecast_steps = 30  # Number of steps to forecast\n",
    "forecast = fitted_model.forecast(steps=forecast_steps)\n",
    "\n",
    "# Create a DataFrame to hold the forecasted values\n",
    "forecast_dates = pd.date_range(start=df.index[-1] + pd.Timedelta(days=1), periods=forecast_steps, freq='D')\n",
    "forecast_df = pd.DataFrame(forecast, index=forecast_dates, columns=['forecast'])\n",
    "\n",
    "# Plot the actual values and the forecasted values\n",
    "plt.figure(figsize=(12, 6))\n",
    "plt.plot(df.index, df['value'], label='Actual')\n",
    "plt.plot(forecast_df.index, forecast_df['forecast'], color='red', label='Forecast')\n",
    "plt.title('ARIMA Model Forecast')\n",
    "plt.xlabel('Date')\n",
    "plt.ylabel('Value')\n",
    "plt.legend()\n",
    "plt.show()\n",
    "\n",
    "# Combine the actual and forecasted values for comparison\n",
    "combined_df = pd.concat([df, forecast_df], axis=0)\n",
    "\n",
    "# Plot the combined actual and forecasted values\n",
    "plt.figure(figsize=(12, 6))\n",
    "plt.plot(combined_df.index, combined_df['value'], label='Actual')\n",
    "plt.plot(combined_df.index, combined_df['forecast'], color='red', label='Forecast')\n",
    "plt.title('Actual vs Forecasted Values')\n",
    "plt.xlabel('Date')\n",
    "plt.ylabel('Value')\n",
    "plt.legend()\n",
    "plt.show()"
   ]
  }
 ],
 "metadata": {
  "language_info": {
   "name": "python"
  }
 },
 "nbformat": 4,
 "nbformat_minor": 2
}
