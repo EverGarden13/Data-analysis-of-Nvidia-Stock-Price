{
 "cells": [
  {
   "cell_type": "markdown",
   "metadata": {},
   "source": [
    "# Import Required Libraries\n",
    "Import necessary libraries including pandas, numpy, matplotlib, seaborn, and datetime for data manipulation and visualization."
   ]
  },
  {
   "cell_type": "code",
   "execution_count": null,
   "metadata": {},
   "outputs": [],
   "source": [
    "# Import Required Libraries\n",
    "import pandas as pd\n",
    "import numpy as np\n",
    "import matplotlib.pyplot as plt\n",
    "import seaborn as sns\n",
    "from datetime import datetime\n",
    "\n",
    "# Set seaborn style for the plots\n",
    "sns.set(style=\"whitegrid\")"
   ]
  },
  {
   "cell_type": "markdown",
   "metadata": {},
   "source": [
    "# Load and Examine the Dataset\n",
    "Load the NVDA.csv file using pandas and examine its structure, including data types, missing values, and first few rows."
   ]
  },
  {
   "cell_type": "code",
   "execution_count": null,
   "metadata": {},
   "outputs": [],
   "source": [
    "# Load and Examine the Dataset\n",
    "\n",
    "# Load the NVDA.csv file into a DataFrame\n",
    "nvda_df = pd.read_csv('NVDA.csv')\n",
    "\n",
    "# Display the first few rows of the DataFrame\n",
    "nvda_df.head()\n",
    "\n",
    "# Display the summary information of the DataFrame, including data types and missing values\n",
    "nvda_df.info()\n",
    "\n",
    "# Display the summary statistics of the DataFrame\n",
    "nvda_df.describe()"
   ]
  },
  {
   "cell_type": "markdown",
   "metadata": {},
   "source": [
    "# Data Cleaning and Preprocessing\n",
    "Handle missing values, convert date columns to datetime format, and prepare the data for analysis."
   ]
  },
  {
   "cell_type": "code",
   "execution_count": null,
   "metadata": {},
   "outputs": [],
   "source": [
    "# Data Cleaning and Preprocessing\n",
    "\n",
    "# Handle missing values by filling them with the previous value in the column\n",
    "nvda_df.fillna(method='ffill', inplace=True)\n",
    "\n",
    "# Convert the 'Date' column to datetime format\n",
    "nvda_df['Date'] = pd.to_datetime(nvda_df['Date'])\n",
    "\n",
    "# Set the 'Date' column as the index of the DataFrame\n",
    "nvda_df.set_index('Date', inplace=True)\n",
    "\n",
    "# Display the first few rows of the cleaned DataFrame\n",
    "nvda_df.head()\n",
    "\n",
    "# Display the summary information of the cleaned DataFrame\n",
    "nvda_df.info()"
   ]
  },
  {
   "cell_type": "markdown",
   "metadata": {},
   "source": [
    "# Statistical Summary and Analysis\n",
    "Generate descriptive statistics and analyze basic metrics like mean, median, min, max of stock prices and trading volumes."
   ]
  },
  {
   "cell_type": "code",
   "execution_count": null,
   "metadata": {},
   "outputs": [],
   "source": [
    "# Statistical Summary and Analysis\n",
    "\n",
    "# Generate descriptive statistics for the stock prices and trading volumes\n",
    "nvda_stats = nvda_df.describe()\n",
    "\n",
    "# Display the descriptive statistics\n",
    "nvda_stats\n",
    "\n",
    "# Calculate and display additional metrics: mean, median, min, max for 'Close' prices and 'Volume'\n",
    "mean_close = nvda_df['Close'].mean()\n",
    "median_close = nvda_df['Close'].median()\n",
    "min_close = nvda_df['Close'].min()\n",
    "max_close = nvda_df['Close'].max()\n",
    "\n",
    "mean_volume = nvda_df['Volume'].mean()\n",
    "median_volume = nvda_df['Volume'].median()\n",
    "min_volume = nvda_df['Volume'].min()\n",
    "max_volume = nvda_df['Volume'].max()\n",
    "\n",
    "# Print the calculated metrics\n",
    "print(f\"Mean Close Price: {mean_close}\")\n",
    "print(f\"Median Close Price: {median_close}\")\n",
    "print(f\"Min Close Price: {min_close}\")\n",
    "print(f\"Max Close Price: {max_close}\")\n",
    "\n",
    "print(f\"Mean Volume: {mean_volume}\")\n",
    "print(f\"Median Volume: {median_volume}\")\n",
    "print(f\"Min Volume: {min_volume}\")\n",
    "print(f\"Max Volume: {max_volume}\")"
   ]
  },
  {
   "cell_type": "markdown",
   "metadata": {},
   "source": [
    "# Time Series Analysis\n",
    "Analyze NVDA stock performance over time using time series plots with seaborn and matplotlib."
   ]
  },
  {
   "cell_type": "code",
   "execution_count": null,
   "metadata": {},
   "outputs": [],
   "source": [
    "# Time Series Analysis\n",
    "\n",
    "# Plot the closing price over time\n",
    "plt.figure(figsize=(14, 7))\n",
    "sns.lineplot(data=nvda_df, x=nvda_df.index, y='Close', label='Close Price')\n",
    "plt.title('NVDA Closing Price Over Time')\n",
    "plt.xlabel('Date')\n",
    "plt.ylabel('Closing Price (USD)')\n",
    "plt.legend()\n",
    "plt.show()\n",
    "\n",
    "# Plot the trading volume over time\n",
    "plt.figure(figsize=(14, 7))\n",
    "sns.lineplot(data=nvda_df, x=nvda_df.index, y='Volume', label='Trading Volume', color='orange')\n",
    "plt.title('NVDA Trading Volume Over Time')\n",
    "plt.xlabel('Date')\n",
    "plt.ylabel('Volume')\n",
    "plt.legend()\n",
    "plt.show()\n",
    "\n",
    "# Plot both closing price and volume on the same plot with two y-axes\n",
    "fig, ax1 = plt.subplots(figsize=(14, 7))\n",
    "\n",
    "color = 'tab:blue'\n",
    "ax1.set_xlabel('Date')\n",
    "ax1.set_ylabel('Closing Price (USD)', color=color)\n",
    "sns.lineplot(data=nvda_df, x=nvda_df.index, y='Close', ax=ax1, color=color, label='Close Price')\n",
    "ax1.tick_params(axis='y', labelcolor=color)\n",
    "\n",
    "ax2 = ax1.twinx()\n",
    "color = 'tab:orange'\n",
    "ax2.set_ylabel('Volume', color=color)\n",
    "sns.lineplot(data=nvda_df, x=nvda_df.index, y='Volume', ax=ax2, color=color, label='Volume')\n",
    "ax2.tick_params(axis='y', labelcolor=color)\n",
    "\n",
    "fig.tight_layout()\n",
    "plt.title('NVDA Closing Price and Trading Volume Over Time')\n",
    "plt.show()"
   ]
  },
  {
   "cell_type": "markdown",
   "metadata": {},
   "source": [
    "# Price Distribution Visualization\n",
    "Create distribution plots for opening, closing, high and low prices using seaborn histograms and KDE plots."
   ]
  },
  {
   "cell_type": "code",
   "execution_count": null,
   "metadata": {},
   "outputs": [],
   "source": [
    "# Price Distribution Visualization\n",
    "\n",
    "# Create a distribution plot for the opening prices\n",
    "plt.figure(figsize=(14, 7))\n",
    "sns.histplot(nvda_df['Open'], kde=True, bins=30, color='blue')\n",
    "plt.title('Distribution of Opening Prices')\n",
    "plt.xlabel('Opening Price (USD)')\n",
    "plt.ylabel('Frequency')\n",
    "plt.show()\n",
    "\n",
    "# Create a distribution plot for the closing prices\n",
    "plt.figure(figsize=(14, 7))\n",
    "sns.histplot(nvda_df['Close'], kde=True, bins=30, color='green')\n",
    "plt.title('Distribution of Closing Prices')\n",
    "plt.xlabel('Closing Price (USD)')\n",
    "plt.ylabel('Frequency')\n",
    "plt.show()\n",
    "\n",
    "# Create a distribution plot for the high prices\n",
    "plt.figure(figsize=(14, 7))\n",
    "sns.histplot(nvda_df['High'], kde=True, bins=30, color='red')\n",
    "plt.title('Distribution of High Prices')\n",
    "plt.xlabel('High Price (USD)')\n",
    "plt.ylabel('Frequency')\n",
    "plt.show()\n",
    "\n",
    "# Create a distribution plot for the low prices\n",
    "plt.figure(figsize=(14, 7))\n",
    "sns.histplot(nvda_df['Low'], kde=True, bins=30, color='purple')\n",
    "plt.title('Distribution of Low Prices')\n",
    "plt.xlabel('Low Price (USD)')\n",
    "plt.ylabel('Frequency')\n",
    "plt.show()"
   ]
  },
  {
   "cell_type": "markdown",
   "metadata": {},
   "source": [
    "# Correlation Analysis\n",
    "Visualize correlations between different variables using seaborn heatmaps and pairplots."
   ]
  },
  {
   "cell_type": "code",
   "execution_count": null,
   "metadata": {},
   "outputs": [],
   "source": [
    "# Correlation Analysis\n",
    "\n",
    "# Calculate the correlation matrix\n",
    "correlation_matrix = nvda_df.corr()\n",
    "\n",
    "# Display the correlation matrix\n",
    "print(correlation_matrix)\n",
    "\n",
    "# Create a heatmap to visualize the correlation matrix\n",
    "plt.figure(figsize=(12, 8))\n",
    "sns.heatmap(correlation_matrix, annot=True, cmap='coolwarm', linewidths=0.5)\n",
    "plt.title('Correlation Matrix Heatmap')\n",
    "plt.show()\n",
    "\n",
    "# Create pairplots to visualize relationships between variables\n",
    "sns.pairplot(nvda_df)\n",
    "plt.suptitle('Pairplot of NVDA Stock Data', y=1.02)\n",
    "plt.show()"
   ]
  },
  {
   "cell_type": "markdown",
   "metadata": {},
   "source": [
    "# Trading Volume Analysis\n",
    "Analyze and visualize trading volumes over time with bar charts and moving averages."
   ]
  },
  {
   "cell_type": "code",
   "execution_count": null,
   "metadata": {},
   "outputs": [],
   "source": [
    "# Trading Volume Analysis\n",
    "\n",
    "# Plot the trading volume over time with a bar chart\n",
    "plt.figure(figsize=(14, 7))\n",
    "sns.barplot(x=nvda_df.index, y='Volume', data=nvda_df, color='blue')\n",
    "plt.title('NVDA Trading Volume Over Time')\n",
    "plt.xlabel('Date')\n",
    "plt.ylabel('Volume')\n",
    "plt.xticks(rotation=45)\n",
    "plt.show()\n",
    "\n",
    "# Calculate the 30-day moving average of the trading volume\n",
    "nvda_df['Volume_MA30'] = nvda_df['Volume'].rolling(window=30).mean()\n",
    "\n",
    "# Plot the trading volume and its 30-day moving average\n",
    "plt.figure(figsize=(14, 7))\n",
    "sns.lineplot(data=nvda_df, x=nvda_df.index, y='Volume', label='Trading Volume', color='orange')\n",
    "sns.lineplot(data=nvda_df, x=nvda_df.index, y='Volume_MA30', label='30-Day Moving Average', color='blue')\n",
    "plt.title('NVDA Trading Volume and 30-Day Moving Average')\n",
    "plt.xlabel('Date')\n",
    "plt.ylabel('Volume')\n",
    "plt.legend()\n",
    "plt.show()"
   ]
  },
  {
   "cell_type": "markdown",
   "metadata": {},
   "source": [
    "# Moving Averages and Trend Analysis\n",
    "Calculate and plot various moving averages to identify trends in the stock price."
   ]
  },
  {
   "cell_type": "code",
   "execution_count": null,
   "metadata": {},
   "outputs": [],
   "source": [
    "# Moving Averages and Trend Analysis\n",
    "\n",
    "# Calculate the 20-day moving average of the closing price\n",
    "nvda_df['MA20'] = nvda_df['Close'].rolling(window=20).mean()\n",
    "\n",
    "# Calculate the 50-day moving average of the closing price\n",
    "nvda_df['MA50'] = nvda_df['Close'].rolling(window=50).mean()\n",
    "\n",
    "# Calculate the 100-day moving average of the closing price\n",
    "nvda_df['MA100'] = nvda_df['Close'].rolling(window=100).mean()\n",
    "\n",
    "# Plot the closing price along with its moving averages\n",
    "plt.figure(figsize=(14, 7))\n",
    "sns.lineplot(data=nvda_df, x=nvda_df.index, y='Close', label='Close Price', color='blue')\n",
    "sns.lineplot(data=nvda_df, x=nvda_df.index, y='MA20', label='20-Day MA', color='red')\n",
    "sns.lineplot(data=nvda_df, x=nvda_df.index, y='MA50', label='50-Day MA', color='green')\n",
    "sns.lineplot(data=nvda_df, x=nvda_df.index, y='MA100', label='100-Day MA', color='purple')\n",
    "plt.title('NVDA Closing Price and Moving Averages')\n",
    "plt.xlabel('Date')\n",
    "plt.ylabel('Price (USD)')\n",
    "plt.legend()\n",
    "plt.show()\n",
    "\n",
    "# Calculate the daily returns\n",
    "nvda_df['Daily_Return'] = nvda_df['Close'].pct_change()\n",
    "\n",
    "# Plot the daily returns\n",
    "plt.figure(figsize=(14, 7))\n",
    "sns.lineplot(data=nvda_df, x=nvda_df.index, y='Daily_Return', label='Daily Return', color='blue')\n",
    "plt.title('NVDA Daily Returns Over Time')\n",
    "plt.xlabel('Date')\n",
    "plt.ylabel('Daily Return')\n",
    "plt.legend()\n",
    "plt.show()\n",
    "\n",
    "# Calculate the cumulative returns\n",
    "nvda_df['Cumulative_Return'] = (1 + nvda_df['Daily_Return']).cumprod()\n",
    "\n",
    "# Plot the cumulative returns\n",
    "plt.figure(figsize=(14, 7))\n",
    "sns.lineplot(data=nvda_df, x=nvda_df.index, y='Cumulative_Return', label='Cumulative Return', color='blue')\n",
    "plt.title('NVDA Cumulative Returns Over Time')\n",
    "plt.xlabel('Date')\n",
    "plt.ylabel('Cumulative Return')\n",
    "plt.legend()\n",
    "plt.show()"
   ]
  },
  {
   "cell_type": "markdown",
   "metadata": {},
   "source": [
    "# Interactive Stock Charts\n",
    "Create interactive visualizations for deeper analysis of stock patterns and anomalies."
   ]
  },
  {
   "cell_type": "code",
   "execution_count": null,
   "metadata": {},
   "outputs": [],
   "source": [
    "# Interactive Stock Charts\n",
    "\n",
    "import plotly.express as px\n",
    "import plotly.graph_objects as go\n",
    "\n",
    "# Create an interactive line chart for the closing price\n",
    "fig = px.line(nvda_df, x=nvda_df.index, y='Close', title='NVDA Closing Price Over Time')\n",
    "fig.update_xaxes(title_text='Date')\n",
    "fig.update_yaxes(title_text='Closing Price (USD)')\n",
    "fig.show()\n",
    "\n",
    "# Create an interactive line chart for the trading volume\n",
    "fig = px.line(nvda_df, x=nvda_df.index, y='Volume', title='NVDA Trading Volume Over Time', color_discrete_sequence=['orange'])\n",
    "fig.update_xaxes(title_text='Date')\n",
    "fig.update_yaxes(title_text='Volume')\n",
    "fig.show()\n",
    "\n",
    "# Create an interactive chart with both closing price and volume on the same plot with two y-axes\n",
    "fig = go.Figure()\n",
    "\n",
    "fig.add_trace(go.Scatter(x=nvda_df.index, y=nvda_df['Close'], mode='lines', name='Close Price', yaxis='y1'))\n",
    "fig.add_trace(go.Scatter(x=nvda_df.index, y=nvda_df['Volume'], mode='lines', name='Volume', yaxis='y2', line=dict(color='orange')))\n",
    "\n",
    "fig.update_layout(\n",
    "    title='NVDA Closing Price and Trading Volume Over Time',\n",
    "    xaxis=dict(title='Date'),\n",
    "    yaxis=dict(title='Closing Price (USD)', side='left'),\n",
    "    yaxis2=dict(title='Volume', side='right', overlaying='y')\n",
    ")\n",
    "\n",
    "fig.show()\n",
    "\n",
    "# Create an interactive histogram for the closing prices\n",
    "fig = px.histogram(nvda_df, x='Close', nbins=30, title='Distribution of Closing Prices', marginal='box', color_discrete_sequence=['green'])\n",
    "fig.update_xaxes(title_text='Closing Price (USD)')\n",
    "fig.update_yaxes(title_text='Frequency')\n",
    "fig.show()\n",
    "\n",
    "# Create an interactive scatter plot matrix to visualize relationships between variables\n",
    "fig = px.scatter_matrix(nvda_df, dimensions=['Open', 'High', 'Low', 'Close', 'Volume'], title='Scatter Matrix of NVDA Stock Data')\n",
    "fig.update_layout(width=1000, height=1000)\n",
    "fig.show()"
   ]
  }
 ],
 "metadata": {
  "language_info": {
   "name": "python"
  }
 },
 "nbformat": 4,
 "nbformat_minor": 2
}
