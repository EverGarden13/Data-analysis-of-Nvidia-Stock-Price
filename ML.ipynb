{
 "cells": [
  {
   "cell_type": "markdown",
   "metadata": {},
   "source": [
    "# Machine Learning Analysis of NVIDIA Stock Price\n",
    "\n",
    "In this notebook, we'll analyze NVIDIA stock price data using different machine learning models and compare their performance."
   ]
  },
  {
   "cell_type": "code",
   "execution_count": null,
   "metadata": {},
   "outputs": [],
   "source": [
    "import pandas as pd\n",
    "import numpy as np\n",
    "from sklearn.model_selection import train_test_split\n",
    "from sklearn.preprocessing import StandardScaler\n",
    "from sklearn.linear_model import LinearRegression\n",
    "from sklearn.ensemble import RandomForestRegressor\n",
    "from sklearn.svm import SVR\n",
    "from sklearn.metrics import mean_squared_error, r2_score\n",
    "import matplotlib.pyplot as plt\n",
    "import seaborn as sns"
   ]
  },
  {
   "cell_type": "markdown",
   "metadata": {},
   "source": [
    "## Data Loading and Preprocessing"
   ]
  },
  {
   "cell_type": "code",
   "execution_count": null,
   "metadata": {},
   "outputs": [],
   "source": [
    "# Load the data\n",
    "df = pd.read_csv('NVDA.csv')\n",
    "df['Date'] = pd.to_datetime(df['Date'])\n",
    "df = df.set_index('Date')\n",
    "\n",
    "# Create features and target\n",
    "df['Returns'] = df['Close'].pct_change()\n",
    "df['Target'] = df['Returns'].shift(-1)\n",
    "df = df.dropna()\n",
    "\n",
    "# Create feature matrix X and target vector y\n",
    "features = ['Open', 'High', 'Low', 'Close', 'Volume', 'Returns']\n",
    "X = df[features]\n",
    "y = df['Target']\n",
    "\n",
    "# Split the data\n",
    "X_train, X_test, y_train, y_test = train_test_split(X, y, test_size=0.2, random_state=42)\n",
    "\n",
    "# Scale the features\n",
    "scaler = StandardScaler()\n",
    "X_train_scaled = scaler.fit_transform(X_train)\n",
    "X_test_scaled = scaler.transform(X_test)"
   ]
  },
  {
   "cell_type": "markdown",
   "metadata": {},
   "source": [
    "## Model Training and Evaluation"
   ]
  },
  {
   "cell_type": "code",
   "execution_count": null,
   "metadata": {},
   "outputs": [],
   "source": [
    "# Initialize models\n",
    "models = {\n",
    "    'Linear Regression': LinearRegression(),\n",
    "    'Random Forest': RandomForestRegressor(n_estimators=100, random_state=42),\n",
    "    'SVR': SVR(kernel='rbf')\n",
    "}\n",
    "\n",
    "# Train and evaluate models\n",
    "results = {}\n",
    "predictions = {}\n",
    "\n",
    "for name, model in models.items():\n",
    "    # Train the model\n",
    "    model.fit(X_train_scaled, y_train)\n",
    "    \n",
    "    # Make predictions\n",
    "    train_pred = model.predict(X_train_scaled)\n",
    "    test_pred = model.predict(X_test_scaled)\n",
    "    predictions[name] = test_pred\n",
    "    \n",
    "    # Calculate metrics\n",
    "    results[name] = {\n",
    "        'Train R2': r2_score(y_train, train_pred),\n",
    "        'Test R2': r2_score(y_test, test_pred),\n",
    "        'Train MSE': mean_squared_error(y_train, train_pred),\n",
    "        'Test MSE': mean_squared_error(y_test, test_pred)\n",
    "    }"
   ]
  },
  {
   "cell_type": "markdown",
   "metadata": {},
   "source": [
    "## Results Visualization"
   ]
  },
  {
   "cell_type": "code",
   "execution_count": null,
   "metadata": {},
   "outputs": [],
   "source": [
    "# Create results table\n",
    "results_df = pd.DataFrame(results).T\n",
    "print(\"Model Performance Metrics:\")\n",
    "print(results_df.round(4))\n",
    "\n",
    "# Plot R2 scores\n",
    "plt.figure(figsize=(10, 6))\n",
    "x = np.arange(len(models))\n",
    "width = 0.35\n",
    "\n",
    "plt.bar(x - width/2, [results[m]['Train R2'] for m in models], width, label='Train R2')\n",
    "plt.bar(x + width/2, [results[m]['Test R2'] for m in models], width, label='Test R2')\n",
    "\n",
    "plt.xlabel('Models')\n",
    "plt.ylabel('R2 Score')\n",
    "plt.title('Model Performance Comparison')\n",
    "plt.xticks(x, models.keys(), rotation=45)\n",
    "plt.legend()\n",
    "plt.tight_layout()\n",
    "plt.show()"
   ]
  },
  {
   "cell_type": "markdown",
   "metadata": {},
   "source": [
    "## Prediction Visualization"
   ]
  },
  {
   "cell_type": "code",
   "execution_count": null,
   "metadata": {},
   "outputs": [],
   "source": [
    "# Plot actual vs predicted values for each model\n",
    "fig, axes = plt.subplots(len(models), 1, figsize=(12, 4*len(models)))\n",
    "fig.suptitle('Actual vs Predicted Returns')\n",
    "\n",
    "for (name, pred), ax in zip(predictions.items(), axes):\n",
    "    ax.scatter(y_test, pred, alpha=0.5)\n",
    "    ax.plot([y_test.min(), y_test.max()], [y_test.min(), y_test.max()], 'r--', lw=2)\n",
    "    ax.set_xlabel('Actual Returns')\n",
    "    ax.set_ylabel('Predicted Returns')\n",
    "    ax.set_title(f'{name}')\n",
    "\n",
    "plt.tight_layout()\n",
    "plt.show()"
   ]
  }
 ],
 "metadata": {
  "language_info": {
   "name": "python"
  }
 },
 "nbformat": 4,
 "nbformat_minor": 2
}
